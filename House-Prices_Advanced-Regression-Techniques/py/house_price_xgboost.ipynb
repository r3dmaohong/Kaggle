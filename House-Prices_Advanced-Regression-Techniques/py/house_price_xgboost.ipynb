{
 "cells": [
  {
   "cell_type": "code",
   "execution_count": 1,
   "metadata": {},
   "outputs": [
    {
     "data": {
      "text/plain": [
       "'D:\\\\workspace\\\\git\\\\Kaggle\\\\House-Prices_Advanced-Regression-Techniques'"
      ]
     },
     "execution_count": 1,
     "metadata": {},
     "output_type": "execute_result"
    }
   ],
   "source": [
    "import os\n",
    "os.chdir(\"D:\\\\workspace\\\\git\\\\Kaggle\\\\House-Prices_Advanced-Regression-Techniques\")\n",
    "os.getcwd()"
   ]
  },
  {
   "cell_type": "code",
   "execution_count": 2,
   "metadata": {
    "collapsed": true
   },
   "outputs": [],
   "source": [
    "#https://www.kaggle.com/humananalog/xgboost-lasso/code/code\n",
    "\n",
    "import matplotlib.pyplot as plt\n",
    "import seaborn as sns\n",
    "import numpy as np\n",
    "import pandas as pd\n",
    "\n",
    "%matplotlib inline\n",
    "sns.set(style='white', context='notebook', palette='deep')\n",
    "\n",
    "# The error metric: RMSE on the log of the sale prices.\n",
    "from sklearn.metrics import mean_squared_error\n",
    "def rmse(y_true, y_pred):\n",
    "    return np.sqrt(mean_squared_error(y_true, y_pred))"
   ]
  },
  {
   "cell_type": "code",
   "execution_count": 3,
   "metadata": {},
   "outputs": [
    {
     "data": {
      "text/html": [
       "<div>\n",
       "<style>\n",
       "    .dataframe thead tr:only-child th {\n",
       "        text-align: right;\n",
       "    }\n",
       "\n",
       "    .dataframe thead th {\n",
       "        text-align: left;\n",
       "    }\n",
       "\n",
       "    .dataframe tbody tr th {\n",
       "        vertical-align: top;\n",
       "    }\n",
       "</style>\n",
       "<table border=\"1\" class=\"dataframe\">\n",
       "  <thead>\n",
       "    <tr style=\"text-align: right;\">\n",
       "      <th></th>\n",
       "      <th>Id</th>\n",
       "      <th>MSSubClass</th>\n",
       "      <th>MSZoning</th>\n",
       "      <th>LotFrontage</th>\n",
       "      <th>LotArea</th>\n",
       "      <th>Street</th>\n",
       "      <th>Alley</th>\n",
       "      <th>LotShape</th>\n",
       "      <th>LandContour</th>\n",
       "      <th>Utilities</th>\n",
       "      <th>...</th>\n",
       "      <th>PoolArea</th>\n",
       "      <th>PoolQC</th>\n",
       "      <th>Fence</th>\n",
       "      <th>MiscFeature</th>\n",
       "      <th>MiscVal</th>\n",
       "      <th>MoSold</th>\n",
       "      <th>YrSold</th>\n",
       "      <th>SaleType</th>\n",
       "      <th>SaleCondition</th>\n",
       "      <th>SalePrice</th>\n",
       "    </tr>\n",
       "  </thead>\n",
       "  <tbody>\n",
       "    <tr>\n",
       "      <th>0</th>\n",
       "      <td>1</td>\n",
       "      <td>60</td>\n",
       "      <td>RL</td>\n",
       "      <td>65.0</td>\n",
       "      <td>8450</td>\n",
       "      <td>Pave</td>\n",
       "      <td>NaN</td>\n",
       "      <td>Reg</td>\n",
       "      <td>Lvl</td>\n",
       "      <td>AllPub</td>\n",
       "      <td>...</td>\n",
       "      <td>0</td>\n",
       "      <td>NaN</td>\n",
       "      <td>NaN</td>\n",
       "      <td>NaN</td>\n",
       "      <td>0</td>\n",
       "      <td>2</td>\n",
       "      <td>2008</td>\n",
       "      <td>WD</td>\n",
       "      <td>Normal</td>\n",
       "      <td>208500</td>\n",
       "    </tr>\n",
       "    <tr>\n",
       "      <th>1</th>\n",
       "      <td>2</td>\n",
       "      <td>20</td>\n",
       "      <td>RL</td>\n",
       "      <td>80.0</td>\n",
       "      <td>9600</td>\n",
       "      <td>Pave</td>\n",
       "      <td>NaN</td>\n",
       "      <td>Reg</td>\n",
       "      <td>Lvl</td>\n",
       "      <td>AllPub</td>\n",
       "      <td>...</td>\n",
       "      <td>0</td>\n",
       "      <td>NaN</td>\n",
       "      <td>NaN</td>\n",
       "      <td>NaN</td>\n",
       "      <td>0</td>\n",
       "      <td>5</td>\n",
       "      <td>2007</td>\n",
       "      <td>WD</td>\n",
       "      <td>Normal</td>\n",
       "      <td>181500</td>\n",
       "    </tr>\n",
       "    <tr>\n",
       "      <th>2</th>\n",
       "      <td>3</td>\n",
       "      <td>60</td>\n",
       "      <td>RL</td>\n",
       "      <td>68.0</td>\n",
       "      <td>11250</td>\n",
       "      <td>Pave</td>\n",
       "      <td>NaN</td>\n",
       "      <td>IR1</td>\n",
       "      <td>Lvl</td>\n",
       "      <td>AllPub</td>\n",
       "      <td>...</td>\n",
       "      <td>0</td>\n",
       "      <td>NaN</td>\n",
       "      <td>NaN</td>\n",
       "      <td>NaN</td>\n",
       "      <td>0</td>\n",
       "      <td>9</td>\n",
       "      <td>2008</td>\n",
       "      <td>WD</td>\n",
       "      <td>Normal</td>\n",
       "      <td>223500</td>\n",
       "    </tr>\n",
       "    <tr>\n",
       "      <th>3</th>\n",
       "      <td>4</td>\n",
       "      <td>70</td>\n",
       "      <td>RL</td>\n",
       "      <td>60.0</td>\n",
       "      <td>9550</td>\n",
       "      <td>Pave</td>\n",
       "      <td>NaN</td>\n",
       "      <td>IR1</td>\n",
       "      <td>Lvl</td>\n",
       "      <td>AllPub</td>\n",
       "      <td>...</td>\n",
       "      <td>0</td>\n",
       "      <td>NaN</td>\n",
       "      <td>NaN</td>\n",
       "      <td>NaN</td>\n",
       "      <td>0</td>\n",
       "      <td>2</td>\n",
       "      <td>2006</td>\n",
       "      <td>WD</td>\n",
       "      <td>Abnorml</td>\n",
       "      <td>140000</td>\n",
       "    </tr>\n",
       "    <tr>\n",
       "      <th>4</th>\n",
       "      <td>5</td>\n",
       "      <td>60</td>\n",
       "      <td>RL</td>\n",
       "      <td>84.0</td>\n",
       "      <td>14260</td>\n",
       "      <td>Pave</td>\n",
       "      <td>NaN</td>\n",
       "      <td>IR1</td>\n",
       "      <td>Lvl</td>\n",
       "      <td>AllPub</td>\n",
       "      <td>...</td>\n",
       "      <td>0</td>\n",
       "      <td>NaN</td>\n",
       "      <td>NaN</td>\n",
       "      <td>NaN</td>\n",
       "      <td>0</td>\n",
       "      <td>12</td>\n",
       "      <td>2008</td>\n",
       "      <td>WD</td>\n",
       "      <td>Normal</td>\n",
       "      <td>250000</td>\n",
       "    </tr>\n",
       "  </tbody>\n",
       "</table>\n",
       "<p>5 rows × 81 columns</p>\n",
       "</div>"
      ],
      "text/plain": [
       "   Id  MSSubClass MSZoning  LotFrontage  LotArea Street Alley LotShape  \\\n",
       "0   1          60       RL         65.0     8450   Pave   NaN      Reg   \n",
       "1   2          20       RL         80.0     9600   Pave   NaN      Reg   \n",
       "2   3          60       RL         68.0    11250   Pave   NaN      IR1   \n",
       "3   4          70       RL         60.0     9550   Pave   NaN      IR1   \n",
       "4   5          60       RL         84.0    14260   Pave   NaN      IR1   \n",
       "\n",
       "  LandContour Utilities    ...     PoolArea PoolQC Fence MiscFeature MiscVal  \\\n",
       "0         Lvl    AllPub    ...            0    NaN   NaN         NaN       0   \n",
       "1         Lvl    AllPub    ...            0    NaN   NaN         NaN       0   \n",
       "2         Lvl    AllPub    ...            0    NaN   NaN         NaN       0   \n",
       "3         Lvl    AllPub    ...            0    NaN   NaN         NaN       0   \n",
       "4         Lvl    AllPub    ...            0    NaN   NaN         NaN       0   \n",
       "\n",
       "  MoSold YrSold  SaleType  SaleCondition  SalePrice  \n",
       "0      2   2008        WD         Normal     208500  \n",
       "1      5   2007        WD         Normal     181500  \n",
       "2      9   2008        WD         Normal     223500  \n",
       "3      2   2006        WD        Abnorml     140000  \n",
       "4     12   2008        WD         Normal     250000  \n",
       "\n",
       "[5 rows x 81 columns]"
      ]
     },
     "execution_count": 3,
     "metadata": {},
     "output_type": "execute_result"
    }
   ],
   "source": [
    "# Load the data.\n",
    "train_df = pd.read_csv(\"input/train.csv\")\n",
    "test_df = pd.read_csv(\"input/test.csv\")\n",
    "train_df.head()"
   ]
  },
  {
   "cell_type": "code",
   "execution_count": 4,
   "metadata": {},
   "outputs": [
    {
     "name": "stdout",
     "output_type": "stream",
     "text": [
      "Shape of train_df :  (1460, 81)\n",
      "Shape of test_df :  (1459, 80)\n"
     ]
    }
   ],
   "source": [
    "print('Shape of train_df : ', train_df.shape)\n",
    "print('Shape of test_df : ', test_df.shape)"
   ]
  },
  {
   "cell_type": "code",
   "execution_count": 5,
   "metadata": {},
   "outputs": [
    {
     "data": {
      "text/plain": [
       "<matplotlib.text.Text at 0xc11c748>"
      ]
     },
     "execution_count": 5,
     "metadata": {},
     "output_type": "execute_result"
    },
    {
     "data": {
      "image/png": "[encoded data removed]",
      "text/plain": [
       "<matplotlib.figure.Figure at 0xc9455f8>"
      ]
     },
     "metadata": {},
     "output_type": "display_data"
    }
   ],
   "source": [
    "# Create a figure instance, and the two subplots\n",
    "sns.set(font_scale=2)\n",
    "\n",
    "fig = plt.figure()\n",
    "plt.subplots_adjust(hspace = 0.9)\n",
    "ax1 = fig.add_subplot(211)\n",
    "ax2 = fig.add_subplot(212)\n",
    "\n",
    "sns.boxplot(train_df['GrLivArea'], ax=ax1).set_title(\"Train\")\n",
    "sns.boxplot(test_df['GrLivArea'], ax=ax2).set_title(\"Test\")"
   ]
  },
  {
   "cell_type": "code",
   "execution_count": 6,
   "metadata": {},
   "outputs": [],
   "source": [
    "# There are a few houses with more than 4000 sq ft living area that are\n",
    "# outliers, so we drop them from the training data. (There is also one in\n",
    "# the test set but we obviously can't drop that one.)\n",
    "train_df.drop(train_df[train_df[\"GrLivArea\"] > 4000].index, inplace=True)"
   ]
  },
  {
   "cell_type": "code",
   "execution_count": 7,
   "metadata": {},
   "outputs": [
    {
     "name": "stdout",
     "output_type": "stream",
     "text": [
      "1089\n"
     ]
    }
   ],
   "source": [
    "print(test_df[test_df['GrLivArea']>4000].index[0])\n",
    "#test_df[test_df['GrLivArea']>4000]"
   ]
  },
  {
   "cell_type": "code",
   "execution_count": 8,
   "metadata": {},
   "outputs": [
    {
     "data": {
      "text/plain": [
       "['SalePrice']"
      ]
     },
     "execution_count": 8,
     "metadata": {},
     "output_type": "execute_result"
    }
   ],
   "source": [
    "list(set(train_df.columns.values) - set(test_df.columns.values))"
   ]
  },
  {
   "cell_type": "code",
   "execution_count": 9,
   "metadata": {
    "collapsed": true
   },
   "outputs": [],
   "source": [
    "test_df['SalePrice'] = 0\n",
    "test_df['memo'] = 'test'\n",
    "train_df['memo'] = 'train'\n",
    "total_df = train_df.append(test_df, ignore_index=True)"
   ]
  },
  {
   "cell_type": "code",
   "execution_count": 10,
   "metadata": {},
   "outputs": [
    {
     "name": "stdout",
     "output_type": "stream",
     "text": [
      "\n",
      "num of rows:  2915\n",
      "\n",
      "=====================\n",
      "\n"
     ]
    },
    {
     "data": {
      "text/plain": [
       "MSZoning           4\n",
       "LotFrontage      486\n",
       "Alley           2717\n",
       "Utilities          2\n",
       "Exterior1st        1\n",
       "Exterior2nd        1\n",
       "MasVnrType        24\n",
       "MasVnrArea        23\n",
       "BsmtQual          81\n",
       "BsmtCond          82\n",
       "BsmtExposure      82\n",
       "BsmtFinType1      79\n",
       "BsmtFinSF1         1\n",
       "BsmtFinType2      80\n",
       "BsmtFinSF2         1\n",
       "BsmtUnfSF          1\n",
       "TotalBsmtSF        1\n",
       "Electrical         1\n",
       "BsmtFullBath       2\n",
       "BsmtHalfBath       2\n",
       "KitchenQual        1\n",
       "Functional         2\n",
       "FireplaceQu     1420\n",
       "GarageType       157\n",
       "GarageYrBlt      159\n",
       "GarageFinish     159\n",
       "GarageCars         1\n",
       "GarageArea         1\n",
       "GarageQual       159\n",
       "GarageCond       159\n",
       "PoolQC          2907\n",
       "Fence           2345\n",
       "MiscFeature     2810\n",
       "SaleType           1\n",
       "dtype: int64"
      ]
     },
     "execution_count": 10,
     "metadata": {},
     "output_type": "execute_result"
    }
   ],
   "source": [
    "print(\"\")\n",
    "print(\"num of rows: \", total_df.shape[0])\n",
    "print(\"\")\n",
    "print(\"=====================\")\n",
    "print(\"\")\n",
    "ttl_check_na = total_df.isnull().sum()\n",
    "ttl_check_na[ttl_check_na>0]"
   ]
  },
  {
   "cell_type": "code",
   "execution_count": 11,
   "metadata": {
    "scrolled": true
   },
   "outputs": [
    {
     "data": {
      "text/plain": [
       "Alley          2717\n",
       "FireplaceQu    1420\n",
       "PoolQC         2907\n",
       "Fence          2345\n",
       "MiscFeature    2810\n",
       "dtype: int64"
      ]
     },
     "execution_count": 11,
     "metadata": {},
     "output_type": "execute_result"
    }
   ],
   "source": [
    "ttl_check_na[ttl_check_na / total_df.shape[0]>0.4]"
   ]
  },
  {
   "cell_type": "code",
   "execution_count": 12,
   "metadata": {
    "collapsed": true
   },
   "outputs": [],
   "source": [
    "total_df.loc[total_df['Alley'].isnull(), 'Alley'] = 'none'\n",
    "total_df.loc[total_df['FireplaceQu'].isnull(), 'FireplaceQu'] = 'none'\n",
    "total_df.loc[total_df['PoolQC'].isnull(), 'PoolQC'] = 'none'\n",
    "total_df.loc[total_df['Fence'].isnull(), 'Fence'] = 'none'\n",
    "total_df.loc[total_df['MiscFeature'].isnull(), 'MiscFeature'] = 'none'"
   ]
  },
  {
   "cell_type": "code",
   "execution_count": 13,
   "metadata": {
    "scrolled": false
   },
   "outputs": [
    {
     "data": {
      "text/plain": [
       "MSZoning          4\n",
       "LotFrontage     486\n",
       "Utilities         2\n",
       "Exterior1st       1\n",
       "Exterior2nd       1\n",
       "MasVnrType       24\n",
       "MasVnrArea       23\n",
       "BsmtQual         81\n",
       "BsmtCond         82\n",
       "BsmtExposure     82\n",
       "BsmtFinType1     79\n",
       "BsmtFinSF1        1\n",
       "BsmtFinType2     80\n",
       "BsmtFinSF2        1\n",
       "BsmtUnfSF         1\n",
       "TotalBsmtSF       1\n",
       "Electrical        1\n",
       "BsmtFullBath      2\n",
       "BsmtHalfBath      2\n",
       "KitchenQual       1\n",
       "Functional        2\n",
       "GarageType      157\n",
       "GarageYrBlt     159\n",
       "GarageFinish    159\n",
       "GarageCars        1\n",
       "GarageArea        1\n",
       "GarageQual      159\n",
       "GarageCond      159\n",
       "SaleType          1\n",
       "dtype: int64"
      ]
     },
     "execution_count": 13,
     "metadata": {},
     "output_type": "execute_result"
    }
   ],
   "source": [
    "total_df.isnull().sum()[total_df.isnull().sum()>0]"
   ]
  },
  {
   "cell_type": "code",
   "execution_count": 14,
   "metadata": {},
   "outputs": [
    {
     "name": "stderr",
     "output_type": "stream",
     "text": [
      "D:\\wjhong\\Anaconda3\\lib\\site-packages\\ipykernel_launcher.py:8: SettingWithCopyWarning: \n",
      "A value is trying to be set on a copy of a slice from a DataFrame\n",
      "\n",
      "See the caveats in the documentation: http://pandas.pydata.org/pandas-docs/stable/indexing.html#indexing-view-versus-copy\n",
      "  \n"
     ]
    }
   ],
   "source": [
    "from sklearn.preprocessing import LabelEncoder\n",
    "le = LabelEncoder()\n",
    "\n",
    "for col in total_df.columns.values[total_df.dtypes==object]:\n",
    "    #total_df[col] = pd.factorize(total_df[col])[0]\n",
    "    #total_df[col] = total_df[col].astype('category')\n",
    "    le.fit(list(total_df[col][total_df[col].notnull()].values))\n",
    "    total_df[col][total_df[col].notnull()] = le.transform(total_df[col][total_df[col].notnull()])"
   ]
  },
  {
   "cell_type": "code",
   "execution_count": 15,
   "metadata": {
    "collapsed": true
   },
   "outputs": [],
   "source": [
    "#https://chrisalbon.com/machine-learning/random_forest_classifier_example_scikit.html\n",
    "from sklearn.ensemble import RandomForestClassifier\n",
    "clf = RandomForestClassifier(n_jobs=2000, random_state=0)"
   ]
  },
  {
   "cell_type": "code",
   "execution_count": 16,
   "metadata": {},
   "outputs": [],
   "source": [
    "#list( - set(test_df.columns.values))\n",
    "features = list(set(total_df.columns)- set(['MSZoning', 'Id', 'memo', 'SalePrice']) )\n",
    "features = list(total_df[total_df['MSZoning'].isnull()][features].dropna(1).columns.values)\n",
    "y = total_df[features+ ['MSZoning']].dropna()['MSZoning']"
   ]
  },
  {
   "cell_type": "code",
   "execution_count": 17,
   "metadata": {
    "scrolled": true
   },
   "outputs": [
    {
     "data": {
      "text/plain": [
       "RandomForestClassifier(bootstrap=True, class_weight=None, criterion='gini',\n",
       "            max_depth=None, max_features='auto', max_leaf_nodes=None,\n",
       "            min_impurity_split=1e-07, min_samples_leaf=1,\n",
       "            min_samples_split=2, min_weight_fraction_leaf=0.0,\n",
       "            n_estimators=10, n_jobs=2000, oob_score=False, random_state=0,\n",
       "            verbose=0, warm_start=False)"
      ]
     },
     "execution_count": 17,
     "metadata": {},
     "output_type": "execute_result"
    }
   ],
   "source": [
    "clf.fit(total_df[features+ ['MSZoning']].dropna()[features], list(y))"
   ]
  },
  {
   "cell_type": "code",
   "execution_count": 18,
   "metadata": {},
   "outputs": [
    {
     "data": {
      "text/plain": [
       "array([3, 3, 4, 3])"
      ]
     },
     "execution_count": 18,
     "metadata": {},
     "output_type": "execute_result"
    }
   ],
   "source": [
    "clf.predict(total_df[total_df['MSZoning'].isnull()][features])"
   ]
  },
  {
   "cell_type": "code",
   "execution_count": 19,
   "metadata": {},
   "outputs": [
    {
     "data": {
      "text/plain": [
       "1911    NaN\n",
       "2212    NaN\n",
       "2246    NaN\n",
       "2900    NaN\n",
       "Name: MSZoning, dtype: object"
      ]
     },
     "execution_count": 19,
     "metadata": {},
     "output_type": "execute_result"
    }
   ],
   "source": [
    "total_df[total_df['MSZoning'].isnull()]['MSZoning']"
   ]
  },
  {
   "cell_type": "code",
   "execution_count": 20,
   "metadata": {},
   "outputs": [],
   "source": [
    "## Using random forest to fill na.\n",
    "for col in list(total_df.isnull().sum()[total_df.isnull().sum()>0].index):\n",
    "    features = list(set(total_df.columns)- set([col, 'Id', 'memo', 'SalePrice']) )\n",
    "    features = list(total_df[total_df[col].isnull()][features].dropna(1).columns.values)\n",
    "    y = total_df[features+ [col]].dropna()[col]\n",
    "    clf.fit(total_df[features+ [col]].dropna()[features], list(y))\n",
    "    total_df.loc[total_df[col].isnull(), col] = clf.predict(total_df[total_df[col].isnull()][features])"
   ]
  },
  {
   "cell_type": "code",
   "execution_count": 21,
   "metadata": {},
   "outputs": [
    {
     "data": {
      "text/plain": [
       "Series([], dtype: int64)"
      ]
     },
     "execution_count": 21,
     "metadata": {},
     "output_type": "execute_result"
    }
   ],
   "source": [
    "total_df.isnull().sum()[ total_df.isnull().sum()>0 ]"
   ]
  },
  {
   "cell_type": "code",
   "execution_count": 22,
   "metadata": {
    "collapsed": true
   },
   "outputs": [],
   "source": [
    "for col in total_df.columns.values[total_df.dtypes==object]:\n",
    "    total_df[col] = total_df[col].astype(int)"
   ]
  },
  {
   "cell_type": "code",
   "execution_count": 23,
   "metadata": {},
   "outputs": [],
   "source": [
    "train_df = total_df[total_df['memo']==1]\n",
    "test_df = total_df[total_df['memo']==0]\n",
    "del test_df['SalePrice'], test_df['memo'], train_df['memo']"
   ]
  },
  {
   "cell_type": "code",
   "execution_count": 24,
   "metadata": {},
   "outputs": [],
   "source": [
    "label_df = pd.DataFrame(index = train_df.index, columns=[\"SalePrice\"])\n",
    "label_df[\"SalePrice\"] = np.log(train_df[\"SalePrice\"])"
   ]
  },
  {
   "cell_type": "code",
   "execution_count": 25,
   "metadata": {},
   "outputs": [
    {
     "name": "stderr",
     "output_type": "stream",
     "text": [
      "D:\\wjhong\\Anaconda3\\lib\\site-packages\\sklearn\\cross_validation.py:44: DeprecationWarning: This module was deprecated in version 0.18 in favor of the model_selection module into which all the refactored classes and functions are moved. Also note that the interface of the new CV iterators are different from that of this module. This module will be removed in 0.20.\n",
      "  \"This module will be removed in 0.20.\", DeprecationWarning)\n"
     ]
    }
   ],
   "source": [
    "#https://stackoverflow.com/questions/33749735/how-to-install-xgboost-package-in-python-windows-platform/35119904#35119904\n",
    "import xgboost as xgb\n",
    "\n",
    "regr = xgb.XGBRegressor(\n",
    "                 colsample_bytree=0.2,\n",
    "                 gamma=0.0,\n",
    "                 learning_rate=0.01,\n",
    "                 max_depth=4,\n",
    "                 min_child_weight=1.5,\n",
    "                 n_estimators=7200,                                                                  \n",
    "                 reg_alpha=0.9,\n",
    "                 reg_lambda=0.6,\n",
    "                 subsample=0.2,\n",
    "                 seed=42,\n",
    "                 silent=1)\n",
    "\n",
    "regr.fit(train_df.drop(['SalePrice'], axis=1), label_df)\n",
    "xgb_y_pred= regr.predict(test_df)"
   ]
  },
  {
   "cell_type": "code",
   "execution_count": 26,
   "metadata": {},
   "outputs": [
    {
     "data": {
      "text/plain": [
       "array([ 0.00001   ,  0.00001429,  0.00002043,  0.00002921,  0.00004175,\n",
       "        0.00005968,  0.00008532,  0.00012196,  0.00017433,  0.0002492 ,\n",
       "        0.00035622,  0.00050921,  0.0007279 ,  0.0010405 ,  0.00148735,\n",
       "        0.00212611,  0.0030392 ,  0.00434441,  0.00621017,  0.0088772 ,\n",
       "        0.01268961,  0.01813931,  0.02592944,  0.03706513,  0.05298317,\n",
       "        0.07573739,  0.10826367,  0.15475874,  0.22122163,  0.31622777])"
      ]
     },
     "execution_count": 26,
     "metadata": {},
     "output_type": "execute_result"
    }
   ],
   "source": [
    "np.set_printoptions(suppress=True)\n",
    "np.logspace(-5, -0.5, 30)"
   ]
  },
  {
   "cell_type": "code",
   "execution_count": 27,
   "metadata": {},
   "outputs": [
    {
     "data": {
      "text/plain": [
       "''"
      ]
     },
     "execution_count": 27,
     "metadata": {},
     "output_type": "execute_result"
    }
   ],
   "source": [
    "## wronge...?\n",
    "\n",
    "\"\"\"\n",
    "from sklearn.linear_model import LassoCV\n",
    "from sklearn.model_selection import KFold\n",
    "\n",
    "alphas = np.logspace(-4, -0.5, 30)\n",
    "lasso_cv = LassoCV(alphas=alphas, random_state=0)\n",
    "k_fold = KFold(30)\n",
    "\n",
    "X = train_df.drop(['SalePrice'], axis=1).reset_index(drop=True)\n",
    "y = label_df.reset_index(drop=True)\n",
    "\n",
    "alpha_score = pd.DataFrame(columns=('k', 'alpha', 'score'))\n",
    "\n",
    "for k, (train, test) in enumerate(k_fold.split(X, y)):\n",
    "    lasso_cv.fit(X.iloc[train], y.iloc[train].values.ravel())\n",
    "    alpha_score = alpha_score.append({'k':k, 'alpha':lasso_cv.alpha_, 'score':lasso_cv.score(X.iloc[test], y.iloc[test].values.ravel())}, ignore_index=True)\n",
    "    print(k, ' '*10, end='\\r')\n",
    "    #print(\"[fold {0}] alpha: {1:.5f}, score: {2:.5f}\".\n",
    "     #     format(k, lasso_cv.alpha_, lasso_cv.score(X.iloc[test], y.iloc[test])))\n",
    "\"\"\"\n",
    "''"
   ]
  },
  {
   "cell_type": "code",
   "execution_count": 29,
   "metadata": {},
   "outputs": [
    {
     "data": {
      "text/html": [
       "<div>\n",
       "<style>\n",
       "    .dataframe thead tr:only-child th {\n",
       "        text-align: right;\n",
       "    }\n",
       "\n",
       "    .dataframe thead th {\n",
       "        text-align: left;\n",
       "    }\n",
       "\n",
       "    .dataframe tbody tr th {\n",
       "        vertical-align: top;\n",
       "    }\n",
       "</style>\n",
       "<table border=\"1\" class=\"dataframe\">\n",
       "  <thead>\n",
       "    <tr>\n",
       "      <th></th>\n",
       "      <th colspan=\"2\" halign=\"left\">score</th>\n",
       "    </tr>\n",
       "    <tr>\n",
       "      <th></th>\n",
       "      <th>mean</th>\n",
       "      <th>count</th>\n",
       "    </tr>\n",
       "    <tr>\n",
       "      <th>alpha</th>\n",
       "      <th></th>\n",
       "      <th></th>\n",
       "    </tr>\n",
       "  </thead>\n",
       "  <tbody>\n",
       "    <tr>\n",
       "      <th>0.000010</th>\n",
       "      <td>0.899956</td>\n",
       "      <td>50</td>\n",
       "    </tr>\n",
       "    <tr>\n",
       "      <th>0.000012</th>\n",
       "      <td>0.899974</td>\n",
       "      <td>50</td>\n",
       "    </tr>\n",
       "    <tr>\n",
       "      <th>0.000015</th>\n",
       "      <td>0.899995</td>\n",
       "      <td>50</td>\n",
       "    </tr>\n",
       "    <tr>\n",
       "      <th>0.000019</th>\n",
       "      <td>0.900021</td>\n",
       "      <td>50</td>\n",
       "    </tr>\n",
       "    <tr>\n",
       "      <th>0.000023</th>\n",
       "      <td>0.900051</td>\n",
       "      <td>50</td>\n",
       "    </tr>\n",
       "    <tr>\n",
       "      <th>0.000029</th>\n",
       "      <td>0.900089</td>\n",
       "      <td>50</td>\n",
       "    </tr>\n",
       "    <tr>\n",
       "      <th>0.000036</th>\n",
       "      <td>0.900132</td>\n",
       "      <td>50</td>\n",
       "    </tr>\n",
       "    <tr>\n",
       "      <th>0.000044</th>\n",
       "      <td>0.900183</td>\n",
       "      <td>50</td>\n",
       "    </tr>\n",
       "    <tr>\n",
       "      <th>0.000054</th>\n",
       "      <td>0.900238</td>\n",
       "      <td>50</td>\n",
       "    </tr>\n",
       "    <tr>\n",
       "      <th>0.000067</th>\n",
       "      <td>0.900298</td>\n",
       "      <td>50</td>\n",
       "    </tr>\n",
       "    <tr>\n",
       "      <th>0.000083</th>\n",
       "      <td>0.900371</td>\n",
       "      <td>50</td>\n",
       "    </tr>\n",
       "    <tr>\n",
       "      <th>0.000102</th>\n",
       "      <td>0.900431</td>\n",
       "      <td>50</td>\n",
       "    </tr>\n",
       "    <tr>\n",
       "      <th>0.000126</th>\n",
       "      <td>0.900466</td>\n",
       "      <td>50</td>\n",
       "    </tr>\n",
       "    <tr>\n",
       "      <th>0.000156</th>\n",
       "      <td>0.900453</td>\n",
       "      <td>50</td>\n",
       "    </tr>\n",
       "    <tr>\n",
       "      <th>0.000193</th>\n",
       "      <td>0.900358</td>\n",
       "      <td>50</td>\n",
       "    </tr>\n",
       "    <tr>\n",
       "      <th>0.000239</th>\n",
       "      <td>0.900132</td>\n",
       "      <td>50</td>\n",
       "    </tr>\n",
       "    <tr>\n",
       "      <th>0.000295</th>\n",
       "      <td>0.899783</td>\n",
       "      <td>50</td>\n",
       "    </tr>\n",
       "    <tr>\n",
       "      <th>0.000364</th>\n",
       "      <td>0.899566</td>\n",
       "      <td>50</td>\n",
       "    </tr>\n",
       "    <tr>\n",
       "      <th>0.000450</th>\n",
       "      <td>0.899525</td>\n",
       "      <td>50</td>\n",
       "    </tr>\n",
       "    <tr>\n",
       "      <th>0.000556</th>\n",
       "      <td>0.899383</td>\n",
       "      <td>50</td>\n",
       "    </tr>\n",
       "    <tr>\n",
       "      <th>0.000687</th>\n",
       "      <td>0.899172</td>\n",
       "      <td>50</td>\n",
       "    </tr>\n",
       "    <tr>\n",
       "      <th>0.000848</th>\n",
       "      <td>0.898947</td>\n",
       "      <td>50</td>\n",
       "    </tr>\n",
       "    <tr>\n",
       "      <th>0.001048</th>\n",
       "      <td>0.898714</td>\n",
       "      <td>50</td>\n",
       "    </tr>\n",
       "    <tr>\n",
       "      <th>0.001295</th>\n",
       "      <td>0.898433</td>\n",
       "      <td>50</td>\n",
       "    </tr>\n",
       "    <tr>\n",
       "      <th>0.001600</th>\n",
       "      <td>0.897924</td>\n",
       "      <td>50</td>\n",
       "    </tr>\n",
       "    <tr>\n",
       "      <th>0.001977</th>\n",
       "      <td>0.897426</td>\n",
       "      <td>50</td>\n",
       "    </tr>\n",
       "    <tr>\n",
       "      <th>0.002442</th>\n",
       "      <td>0.896639</td>\n",
       "      <td>50</td>\n",
       "    </tr>\n",
       "    <tr>\n",
       "      <th>0.003017</th>\n",
       "      <td>0.895621</td>\n",
       "      <td>50</td>\n",
       "    </tr>\n",
       "    <tr>\n",
       "      <th>0.003728</th>\n",
       "      <td>0.894774</td>\n",
       "      <td>50</td>\n",
       "    </tr>\n",
       "    <tr>\n",
       "      <th>0.004605</th>\n",
       "      <td>0.894429</td>\n",
       "      <td>50</td>\n",
       "    </tr>\n",
       "    <tr>\n",
       "      <th>0.005690</th>\n",
       "      <td>0.893993</td>\n",
       "      <td>50</td>\n",
       "    </tr>\n",
       "    <tr>\n",
       "      <th>0.007030</th>\n",
       "      <td>0.893472</td>\n",
       "      <td>50</td>\n",
       "    </tr>\n",
       "    <tr>\n",
       "      <th>0.008685</th>\n",
       "      <td>0.892588</td>\n",
       "      <td>50</td>\n",
       "    </tr>\n",
       "    <tr>\n",
       "      <th>0.010730</th>\n",
       "      <td>0.891608</td>\n",
       "      <td>50</td>\n",
       "    </tr>\n",
       "    <tr>\n",
       "      <th>0.013257</th>\n",
       "      <td>0.890126</td>\n",
       "      <td>50</td>\n",
       "    </tr>\n",
       "    <tr>\n",
       "      <th>0.016379</th>\n",
       "      <td>0.887731</td>\n",
       "      <td>50</td>\n",
       "    </tr>\n",
       "    <tr>\n",
       "      <th>0.020236</th>\n",
       "      <td>0.884291</td>\n",
       "      <td>50</td>\n",
       "    </tr>\n",
       "    <tr>\n",
       "      <th>0.025001</th>\n",
       "      <td>0.879283</td>\n",
       "      <td>50</td>\n",
       "    </tr>\n",
       "    <tr>\n",
       "      <th>0.030888</th>\n",
       "      <td>0.871518</td>\n",
       "      <td>50</td>\n",
       "    </tr>\n",
       "    <tr>\n",
       "      <th>0.038162</th>\n",
       "      <td>0.862164</td>\n",
       "      <td>50</td>\n",
       "    </tr>\n",
       "    <tr>\n",
       "      <th>0.047149</th>\n",
       "      <td>0.848756</td>\n",
       "      <td>50</td>\n",
       "    </tr>\n",
       "    <tr>\n",
       "      <th>0.058251</th>\n",
       "      <td>0.835205</td>\n",
       "      <td>50</td>\n",
       "    </tr>\n",
       "    <tr>\n",
       "      <th>0.071969</th>\n",
       "      <td>0.829168</td>\n",
       "      <td>50</td>\n",
       "    </tr>\n",
       "    <tr>\n",
       "      <th>0.088916</th>\n",
       "      <td>0.829171</td>\n",
       "      <td>50</td>\n",
       "    </tr>\n",
       "    <tr>\n",
       "      <th>0.109854</th>\n",
       "      <td>0.829108</td>\n",
       "      <td>50</td>\n",
       "    </tr>\n",
       "    <tr>\n",
       "      <th>0.135723</th>\n",
       "      <td>0.828865</td>\n",
       "      <td>50</td>\n",
       "    </tr>\n",
       "    <tr>\n",
       "      <th>0.167683</th>\n",
       "      <td>0.828503</td>\n",
       "      <td>50</td>\n",
       "    </tr>\n",
       "    <tr>\n",
       "      <th>0.207170</th>\n",
       "      <td>0.828190</td>\n",
       "      <td>50</td>\n",
       "    </tr>\n",
       "    <tr>\n",
       "      <th>0.255955</th>\n",
       "      <td>0.827533</td>\n",
       "      <td>50</td>\n",
       "    </tr>\n",
       "    <tr>\n",
       "      <th>0.316228</th>\n",
       "      <td>0.826802</td>\n",
       "      <td>50</td>\n",
       "    </tr>\n",
       "  </tbody>\n",
       "</table>\n",
       "</div>"
      ],
      "text/plain": [
       "             score      \n",
       "              mean count\n",
       "alpha                   \n",
       "0.000010  0.899956    50\n",
       "0.000012  0.899974    50\n",
       "0.000015  0.899995    50\n",
       "0.000019  0.900021    50\n",
       "0.000023  0.900051    50\n",
       "0.000029  0.900089    50\n",
       "0.000036  0.900132    50\n",
       "0.000044  0.900183    50\n",
       "0.000054  0.900238    50\n",
       "0.000067  0.900298    50\n",
       "0.000083  0.900371    50\n",
       "0.000102  0.900431    50\n",
       "0.000126  0.900466    50\n",
       "0.000156  0.900453    50\n",
       "0.000193  0.900358    50\n",
       "0.000239  0.900132    50\n",
       "0.000295  0.899783    50\n",
       "0.000364  0.899566    50\n",
       "0.000450  0.899525    50\n",
       "0.000556  0.899383    50\n",
       "0.000687  0.899172    50\n",
       "0.000848  0.898947    50\n",
       "0.001048  0.898714    50\n",
       "0.001295  0.898433    50\n",
       "0.001600  0.897924    50\n",
       "0.001977  0.897426    50\n",
       "0.002442  0.896639    50\n",
       "0.003017  0.895621    50\n",
       "0.003728  0.894774    50\n",
       "0.004605  0.894429    50\n",
       "0.005690  0.893993    50\n",
       "0.007030  0.893472    50\n",
       "0.008685  0.892588    50\n",
       "0.010730  0.891608    50\n",
       "0.013257  0.890126    50\n",
       "0.016379  0.887731    50\n",
       "0.020236  0.884291    50\n",
       "0.025001  0.879283    50\n",
       "0.030888  0.871518    50\n",
       "0.038162  0.862164    50\n",
       "0.047149  0.848756    50\n",
       "0.058251  0.835205    50\n",
       "0.071969  0.829168    50\n",
       "0.088916  0.829171    50\n",
       "0.109854  0.829108    50\n",
       "0.135723  0.828865    50\n",
       "0.167683  0.828503    50\n",
       "0.207170  0.828190    50\n",
       "0.255955  0.827533    50\n",
       "0.316228  0.826802    50"
      ]
     },
     "execution_count": 29,
     "metadata": {},
     "output_type": "execute_result"
    }
   ],
   "source": [
    "## maybe this way?\n",
    "from sklearn.linear_model import LassoCV\n",
    "#from sklearn.model_selection import KFold\n",
    "from sklearn.cross_validation import KFold\n",
    "from sklearn.linear_model import Lasso\n",
    "alphas = np.logspace(-5, -0.5, 50)\n",
    "\n",
    "X = train_df.drop(['SalePrice'], axis=1).reset_index(drop=True)\n",
    "y = label_df.reset_index(drop=True)\n",
    "\n",
    "#lasso_cv = LassoCV(alphas=alphas, random_state=0)\n",
    "k_fold = KFold(X.shape[0], n_folds=50,)\n",
    "\n",
    "alpha_score = pd.DataFrame(columns=('alpha', 'score'))\n",
    "for alpha in alphas:\n",
    "    lasso_cv = Lasso(alpha=alpha)\n",
    "    for (train, test) in k_fold:\n",
    "        lasso_cv.fit(X.iloc[train], y.iloc[train].values.ravel())\n",
    "        alpha_score = alpha_score.append({'alpha':alpha, 'score':lasso_cv.score(X.iloc[test], y.iloc[test].values.ravel())}, ignore_index=True)\n",
    "        #print(k, ' '*10, end='\\r')\n",
    "    #print(\"[fold {0}] alpha: {1:.5f}, score: {2:.5f}\".\n",
    "     #     format(k, lasso_cv.alpha_, lasso_cv.score(X.iloc[test], y.iloc[test])))\n",
    "\n",
    "alpha_score.groupby(['alpha']).agg(['mean', 'count'])"
   ]
  },
  {
   "cell_type": "code",
   "execution_count": 30,
   "metadata": {
    "collapsed": true
   },
   "outputs": [],
   "source": [
    "from sklearn.linear_model import Lasso\n",
    "\n",
    "# Best alpha through cross-validation\n",
    "best_alpha = 0.000126#0.00099\n",
    "\n",
    "regr = Lasso(max_iter=50000)#Lasso(alpha=best_alpha, max_iter=50000)\n",
    "regr.fit(train_df.drop(['SalePrice'], axis=1), label_df)\n",
    "\n",
    "lasso_y_pred = regr.predict(test_df)"
   ]
  },
  {
   "cell_type": "code",
   "execution_count": 31,
   "metadata": {},
   "outputs": [],
   "source": [
    "y_pred = (xgb_y_pred + lasso_y_pred) / 2\n",
    "y_pred = np.exp(y_pred)\n",
    "\n",
    "pred_df = pd.DataFrame(np.exp(xgb_y_pred), index=test_df[\"Id\"], columns=[\"SalePrice\"])\n",
    "pred_df.to_csv('output/xgb_output.csv', header=True, index_label='Id') #0.12521\n",
    "pred_df = pd.DataFrame(np.exp(lasso_y_pred), index=test_df[\"Id\"], columns=[\"SalePrice\"])\n",
    "pred_df.to_csv('output/lasso_output.csv', header=True, index_label='Id') #0.12530\n",
    "pred_df = pd.DataFrame(y_pred, index=test_df[\"Id\"], columns=[\"SalePrice\"])\n",
    "pred_df.to_csv('output/xgb_lasso_output.csv', header=True, index_label='Id') #0.12091"
   ]
  }
 ],
 "metadata": {
  "kernelspec": {
   "display_name": "Python 3",
   "language": "python",
   "name": "python3"
  },
  "language_info": {
   "codemirror_mode": {
    "name": "ipython",
    "version": 3
   },
   "file_extension": ".py",
   "mimetype": "text/x-python",
   "name": "python",
   "nbconvert_exporter": "python",
   "pygments_lexer": "ipython3",
   "version": "3.6.1"
  }
 },
 "nbformat": 4,
 "nbformat_minor": 2
}
